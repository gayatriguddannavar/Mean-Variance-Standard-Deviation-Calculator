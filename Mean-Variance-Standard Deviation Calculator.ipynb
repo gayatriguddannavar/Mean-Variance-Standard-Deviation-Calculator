{
 "cells": [
  {
   "cell_type": "code",
   "execution_count": 8,
   "id": "38b44142-fb38-4614-9376-736a94461961",
   "metadata": {},
   "outputs": [],
   "source": [
    "import numpy as np\n",
    "\n",
    "def calculate(lst):\n",
    "    if len(lst) != 9:\n",
    "        raise ValueError(\"List must contain exactly 9 elements.\")\n",
    "    \n",
    "    # Convert list to a 3x3 NumPy array\n",
    "    ls = np.array(lst).reshape(3, 3)\n",
    "    \n",
    "    # Compute statistics\n",
    "    calculations = {\n",
    "        'mean': [ls.mean(axis=0).tolist(), ls.mean(axis=1).tolist(), ls.mean().tolist()],\n",
    "        'variance': [ls.var(axis=0).tolist(), ls.var(axis=1).tolist(), ls.var().tolist()],\n",
    "        'standard deviation': [ls.std(axis=0).tolist(), ls.std(axis=1).tolist(), ls.std().tolist()],\n",
    "        'max': [ls.max(axis=0).tolist(), ls.max(axis=1).tolist(), ls.max().tolist()],\n",
    "        'min': [ls.min(axis=0).tolist(), ls.min(axis=1).tolist(), ls.min().tolist()],\n",
    "        'sum': [ls.sum(axis=0).tolist(), ls.sum(axis=1).tolist(), ls.sum().tolist()]\n",
    "    }\n",
    "    \n",
    "    return calculations\n"
   ]
  },
  {
   "cell_type": "code",
   "execution_count": 9,
   "id": "df8955b4-c9c1-4289-b892-82cbb3880489",
   "metadata": {},
   "outputs": [
    {
     "name": "stdout",
     "output_type": "stream",
     "text": [
      "{'mean': [[3.0, 4.0, 5.0], [1.0, 4.0, 7.0], 4.0], 'variance': [[6.0, 6.0, 6.0], [0.6666666666666666, 0.6666666666666666, 0.6666666666666666], 6.666666666666667], 'standard deviation': [[2.449489742783178, 2.449489742783178, 2.449489742783178], [0.816496580927726, 0.816496580927726, 0.816496580927726], 2.581988897471611], 'max': [[6, 7, 8], [2, 5, 8], 8], 'min': [[0, 1, 2], [0, 3, 6], 0], 'sum': [[9, 12, 15], [3, 12, 21], 36]}\n"
     ]
    }
   ],
   "source": [
    "result = calculate([0,1,2,3,4,5,6,7,8])\n",
    "print(result)\n"
   ]
  },
  {
   "cell_type": "code",
   "execution_count": null,
   "id": "9f6216a8-69ca-4302-a8a9-e8c1589e391c",
   "metadata": {},
   "outputs": [],
   "source": []
  }
 ],
 "metadata": {
  "kernelspec": {
   "display_name": "Python 3 (ipykernel)",
   "language": "python",
   "name": "python3"
  },
  "language_info": {
   "codemirror_mode": {
    "name": "ipython",
    "version": 3
   },
   "file_extension": ".py",
   "mimetype": "text/x-python",
   "name": "python",
   "nbconvert_exporter": "python",
   "pygments_lexer": "ipython3",
   "version": "3.12.7"
  }
 },
 "nbformat": 4,
 "nbformat_minor": 5
}
